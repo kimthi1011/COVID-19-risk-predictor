{
 "cells": [
  {
   "cell_type": "code",
   "execution_count": 1,
   "metadata": {},
   "outputs": [],
   "source": [
    "import pandas as pd\n",
    "import numpy as np"
   ]
  },
  {
   "cell_type": "markdown",
   "metadata": {},
   "source": [
    "# positive data"
   ]
  },
  {
   "cell_type": "code",
   "execution_count": 6,
   "metadata": {},
   "outputs": [],
   "source": [
    "positive_condition_data = pd.read_csv(\n",
    "    '/data/project/ubrite/covid19-hackathon/Team4_staging_area/parsed_data/condition_data_positive.csv'\n",
    ")\n"
   ]
  },
  {
   "cell_type": "code",
   "execution_count": 7,
   "metadata": {},
   "outputs": [
    {
     "data": {
      "text/html": [
       "<div>\n",
       "<style scoped>\n",
       "    .dataframe tbody tr th:only-of-type {\n",
       "        vertical-align: middle;\n",
       "    }\n",
       "\n",
       "    .dataframe tbody tr th {\n",
       "        vertical-align: top;\n",
       "    }\n",
       "\n",
       "    .dataframe thead th {\n",
       "        text-align: right;\n",
       "    }\n",
       "</style>\n",
       "<table border=\"1\" class=\"dataframe\">\n",
       "  <thead>\n",
       "    <tr style=\"text-align: right;\">\n",
       "      <th></th>\n",
       "      <th>PERSON_ID</th>\n",
       "      <th>CONDITION_START_DATE</th>\n",
       "      <th>CONDITION_SOURCE_VALUE</th>\n",
       "      <th>CONDITION_SOURCE_CONCEPT_ID</th>\n",
       "    </tr>\n",
       "  </thead>\n",
       "  <tbody>\n",
       "    <tr>\n",
       "      <th>0</th>\n",
       "      <td>1</td>\n",
       "      <td>2020-04-27</td>\n",
       "      <td>Heartburn</td>\n",
       "      <td>35211292</td>\n",
       "    </tr>\n",
       "    <tr>\n",
       "      <th>1</th>\n",
       "      <td>1</td>\n",
       "      <td>2018-01-10</td>\n",
       "      <td>Acute pharyngitis, unspecified</td>\n",
       "      <td>35207924</td>\n",
       "    </tr>\n",
       "    <tr>\n",
       "      <th>2</th>\n",
       "      <td>1</td>\n",
       "      <td>2019-01-04</td>\n",
       "      <td>Acute pharyngitis, unspecified</td>\n",
       "      <td>35207924</td>\n",
       "    </tr>\n",
       "    <tr>\n",
       "      <th>3</th>\n",
       "      <td>1</td>\n",
       "      <td>2017-09-29</td>\n",
       "      <td>Chest pain, unspecified</td>\n",
       "      <td>45534424</td>\n",
       "    </tr>\n",
       "    <tr>\n",
       "      <th>4</th>\n",
       "      <td>1</td>\n",
       "      <td>2019-03-19</td>\n",
       "      <td>Eczema</td>\n",
       "      <td>133835</td>\n",
       "    </tr>\n",
       "  </tbody>\n",
       "</table>\n",
       "</div>"
      ],
      "text/plain": [
       "   PERSON_ID CONDITION_START_DATE          CONDITION_SOURCE_VALUE  \\\n",
       "0          1           2020-04-27                       Heartburn   \n",
       "1          1           2018-01-10  Acute pharyngitis, unspecified   \n",
       "2          1           2019-01-04  Acute pharyngitis, unspecified   \n",
       "3          1           2017-09-29         Chest pain, unspecified   \n",
       "4          1           2019-03-19                          Eczema   \n",
       "\n",
       "   CONDITION_SOURCE_CONCEPT_ID  \n",
       "0                     35211292  \n",
       "1                     35207924  \n",
       "2                     35207924  \n",
       "3                     45534424  \n",
       "4                       133835  "
      ]
     },
     "execution_count": 7,
     "metadata": {},
     "output_type": "execute_result"
    }
   ],
   "source": [
    "positive_condition_data.head()"
   ]
  },
  {
   "cell_type": "code",
   "execution_count": 8,
   "metadata": {},
   "outputs": [],
   "source": [
    "positive_condition_data = positive_condition_data.drop(['CONDITION_START_DATE','CONDITION_SOURCE_VALUE'], axis=1)"
   ]
  },
  {
   "cell_type": "code",
   "execution_count": 10,
   "metadata": {},
   "outputs": [],
   "source": [
    "# empty data frame\n",
    "positive_df_big = pd.DataFrame()\n",
    "# set up each person's conditions\n",
    "for person_id in pd.unique(positive_condition_data.PERSON_ID):\n",
    "    person_df = positive_condition_data[positive_condition_data['PERSON_ID'] == person_id]\n",
    "    conditions = pd.unique(person_df.CONDITION_SOURCE_CONCEPT_ID)\n",
    "    conditions = list([str(i) for i in conditions])\n",
    "    cols_needed = len(conditions)\n",
    "    list_of_ones = listofzeros = [1] * cols_needed\n",
    "    df_temp = pd.DataFrame(data=[list_of_ones], columns=conditions)\n",
    "    df_temp['person_id'] = person_id\n",
    "    df_temp['target'] = 1\n",
    "    positive_df_big = positive_df_big.append(df_temp, ignore_index=True)\n",
    "positive_df_big = positive_df_big.fillna(value=0)"
   ]
  },
  {
   "cell_type": "code",
   "execution_count": 11,
   "metadata": {},
   "outputs": [],
   "source": [
    "positive_df_big.to_csv('/data/project/ubrite/covid19-hackathon/Team4_staging_area/parsed_data/positive_condition_categorical.csv')"
   ]
  },
  {
   "cell_type": "markdown",
   "metadata": {},
   "source": [
    "# Negative"
   ]
  },
  {
   "cell_type": "code",
   "execution_count": 12,
   "metadata": {},
   "outputs": [],
   "source": [
    "negative_condition_data = pd.read_csv(\n",
    "    '/data/project/ubrite/covid19-hackathon/Team4_staging_area/parsed_data/condition_data_negative.csv'\n",
    ")"
   ]
  },
  {
   "cell_type": "code",
   "execution_count": 13,
   "metadata": {},
   "outputs": [
    {
     "data": {
      "text/html": [
       "<div>\n",
       "<style scoped>\n",
       "    .dataframe tbody tr th:only-of-type {\n",
       "        vertical-align: middle;\n",
       "    }\n",
       "\n",
       "    .dataframe tbody tr th {\n",
       "        vertical-align: top;\n",
       "    }\n",
       "\n",
       "    .dataframe thead th {\n",
       "        text-align: right;\n",
       "    }\n",
       "</style>\n",
       "<table border=\"1\" class=\"dataframe\">\n",
       "  <thead>\n",
       "    <tr style=\"text-align: right;\">\n",
       "      <th></th>\n",
       "      <th>PERSON_ID</th>\n",
       "      <th>CONDITION_START_DATE</th>\n",
       "      <th>CONDITION_SOURCE_VALUE</th>\n",
       "      <th>CONDITION_SOURCE_CONCEPT_ID</th>\n",
       "    </tr>\n",
       "  </thead>\n",
       "  <tbody>\n",
       "    <tr>\n",
       "      <th>0</th>\n",
       "      <td>100000</td>\n",
       "      <td>2017-02-28</td>\n",
       "      <td>Dysphagia, unspecified</td>\n",
       "      <td>45539319</td>\n",
       "    </tr>\n",
       "    <tr>\n",
       "      <th>1</th>\n",
       "      <td>100000</td>\n",
       "      <td>2018-07-11</td>\n",
       "      <td>Skin ulcer of left foot with fat layer exposed</td>\n",
       "      <td>74719</td>\n",
       "    </tr>\n",
       "    <tr>\n",
       "      <th>2</th>\n",
       "      <td>100000</td>\n",
       "      <td>2015-03-18</td>\n",
       "      <td>IMPOTENCE OF ORGANIC ORIGIN</td>\n",
       "      <td>44832496</td>\n",
       "    </tr>\n",
       "    <tr>\n",
       "      <th>3</th>\n",
       "      <td>100000</td>\n",
       "      <td>2015-06-05</td>\n",
       "      <td>IMPOTENCE OF ORGANIC ORIGIN</td>\n",
       "      <td>44832496</td>\n",
       "    </tr>\n",
       "    <tr>\n",
       "      <th>4</th>\n",
       "      <td>100000</td>\n",
       "      <td>2015-09-02</td>\n",
       "      <td>ED (erectile dysfunction)</td>\n",
       "      <td>44832496</td>\n",
       "    </tr>\n",
       "  </tbody>\n",
       "</table>\n",
       "</div>"
      ],
      "text/plain": [
       "   PERSON_ID CONDITION_START_DATE  \\\n",
       "0     100000           2017-02-28   \n",
       "1     100000           2018-07-11   \n",
       "2     100000           2015-03-18   \n",
       "3     100000           2015-06-05   \n",
       "4     100000           2015-09-02   \n",
       "\n",
       "                           CONDITION_SOURCE_VALUE  CONDITION_SOURCE_CONCEPT_ID  \n",
       "0                          Dysphagia, unspecified                     45539319  \n",
       "1  Skin ulcer of left foot with fat layer exposed                        74719  \n",
       "2                     IMPOTENCE OF ORGANIC ORIGIN                     44832496  \n",
       "3                     IMPOTENCE OF ORGANIC ORIGIN                     44832496  \n",
       "4                       ED (erectile dysfunction)                     44832496  "
      ]
     },
     "execution_count": 13,
     "metadata": {},
     "output_type": "execute_result"
    }
   ],
   "source": [
    "negative_condition_data.head()"
   ]
  },
  {
   "cell_type": "code",
   "execution_count": 14,
   "metadata": {},
   "outputs": [],
   "source": [
    "negative_condition_data = negative_condition_data.drop(['CONDITION_START_DATE','CONDITION_SOURCE_VALUE'], axis=1)"
   ]
  },
  {
   "cell_type": "code",
   "execution_count": null,
   "metadata": {},
   "outputs": [],
   "source": [
    "# empty data frame\n",
    "negative_df_big = pd.DataFrame()\n",
    "# set up each person's conditions\n",
    "for person_id in pd.unique(negative_condition_data.PERSON_ID):\n",
    "    person_df = negative_condition_data[negative_condition_data['PERSON_ID'] == person_id]\n",
    "    conditions = pd.unique(person_df.CONDITION_SOURCE_CONCEPT_ID)\n",
    "    conditions = list([str(i) for i in conditions])\n",
    "    cols_needed = len(conditions)\n",
    "    list_of_ones = listofzeros = [1] * cols_needed\n",
    "    df_temp = pd.DataFrame(data=[list_of_ones], columns=conditions)\n",
    "    df_temp['person_id'] = person_id\n",
    "    df_temp['target'] = 0\n",
    "    negative_df_big = negative_df_big.append(df_temp, ignore_index=True)\n",
    "negative_df_big = negative_df_big.fillna(value=0)"
   ]
  },
  {
   "cell_type": "code",
   "execution_count": null,
   "metadata": {},
   "outputs": [],
   "source": [
    "negative_df_big.to_csv('/data/project/ubrite/covid19-hackathon/Team4_staging_area/parsed_data/negative_condition_categorical.csv')"
   ]
  },
  {
   "cell_type": "code",
   "execution_count": null,
   "metadata": {},
   "outputs": [],
   "source": []
  }
 ],
 "metadata": {
  "kernelspec": {
   "display_name": "Python 3",
   "language": "python",
   "name": "python3"
  },
  "language_info": {
   "codemirror_mode": {
    "name": "ipython",
    "version": 3
   },
   "file_extension": ".py",
   "mimetype": "text/x-python",
   "name": "python",
   "nbconvert_exporter": "python",
   "pygments_lexer": "ipython3",
   "version": "3.7.6"
  }
 },
 "nbformat": 4,
 "nbformat_minor": 4
}
